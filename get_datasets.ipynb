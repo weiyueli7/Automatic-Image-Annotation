{
 "cells": [
  {
   "cell_type": "code",
   "execution_count": 1,
   "metadata": {},
   "outputs": [],
   "source": [
    "import csv\n",
    "import random\n",
    "from shutil import copyfile\n",
    "from pycocotools.coco import COCO\n",
    "from tqdm import tqdm"
   ]
  },
  {
   "cell_type": "code",
   "execution_count": 2,
   "metadata": {},
   "outputs": [
    {
     "name": "stdout",
     "output_type": "stream",
     "text": [
      "mkdir: cannot create directory ‘data’: File exists\n",
      "--2022-03-05 12:28:43--  http://msvocds.blob.core.windows.net/annotations-1-0-3/captions_train-val2014.zip\n",
      "Resolving msvocds.blob.core.windows.net (msvocds.blob.core.windows.net)... 20.60.195.163\n",
      "Connecting to msvocds.blob.core.windows.net (msvocds.blob.core.windows.net)|20.60.195.163|:80... connected.\n",
      "HTTP request sent, awaiting response... 200 OK\n",
      "Length: 19673183 (19M) [application/octet-stream Charset=UTF-8]\n",
      "Saving to: ‘./data/captions_train-val2014.zip’\n",
      "\n",
      "captions_train-val2 100%[===================>]  18.76M  4.40MB/s    in 5.5s    \n",
      "\n",
      "2022-03-05 12:28:49 (3.42 MB/s) - ‘./data/captions_train-val2014.zip’ saved [19673183/19673183]\n",
      "\n",
      "Archive:  ./data/captions_train-val2014.zip\n",
      "replace ./data/annotations/captions_train2014.json? [y]es, [n]o, [A]ll, [N]one, [r]ename: ^C\n"
     ]
    }
   ],
   "source": [
    "#make directory and get annotations for training and testing\n",
    "!mkdir data\n",
    "!wget http://msvocds.blob.core.windows.net/annotations-1-0-3/captions_train-val2014.zip -P ./data/\n",
    "!unzip ./data/captions_train-val2014.zip -d ./data/\n",
    "!rm ./data/captions_train-val2014.zip"
   ]
  },
  {
   "cell_type": "code",
   "execution_count": 3,
   "metadata": {},
   "outputs": [
    {
     "name": "stdout",
     "output_type": "stream",
     "text": [
      "mkdir: cannot create directory ‘data/images’: File exists\n",
      "mkdir: cannot create directory ‘data/images/train’: File exists\n",
      "mkdir: cannot create directory ‘data/images/val’: File exists\n",
      "mkdir: cannot create directory ‘data/images/test’: File exists\n"
     ]
    }
   ],
   "source": [
    "!mkdir data/images\n",
    "!mkdir data/images/train\n",
    "!mkdir data/images/val\n",
    "!mkdir data/images/test"
   ]
  },
  {
   "cell_type": "code",
   "execution_count": 4,
   "metadata": {},
   "outputs": [
    {
     "name": "stdout",
     "output_type": "stream",
     "text": [
      "loading annotations into memory...\n",
      "Done (t=0.83s)\n",
      "creating index...\n",
      "index created!\n"
     ]
    }
   ],
   "source": [
    "coco = COCO('./data/annotations/captions_train2014.json')"
   ]
  },
  {
   "cell_type": "code",
   "execution_count": 5,
   "metadata": {},
   "outputs": [],
   "source": [
    "#get ids of training images\n",
    "with open('train_ids.csv', 'r') as f:\n",
    "    reader = csv.reader(f)\n",
    "    trainIds = list(reader)\n",
    "    \n",
    "trainIds = [int(i) for i in trainIds[0]]\n",
    "\n",
    "with open('val_ids.csv', 'r') as f:\n",
    "    reader = csv.reader(f)\n",
    "    valIds = list(reader)\n",
    "    \n",
    "valIds = [int(i) for i in valIds[0]]"
   ]
  },
  {
   "cell_type": "code",
   "execution_count": 6,
   "metadata": {},
   "outputs": [],
   "source": [
    "for img_id in trainIds:\n",
    "    path = coco.loadImgs(img_id)[0]['file_name']\n",
    "    copyfile('/datasets/COCO-2015/train2014/'+path, './data/images/train/'+path)\n",
    "for img_id in valIds:\n",
    "    path = coco.loadImgs(img_id)[0]['file_name']\n",
    "    copyfile('/datasets/COCO-2015/train2014/'+path, './data/images/val/'+path)"
   ]
  },
  {
   "cell_type": "code",
   "execution_count": 7,
   "metadata": {},
   "outputs": [
    {
     "name": "stdout",
     "output_type": "stream",
     "text": [
      "loading annotations into memory...\n",
      "Done (t=0.55s)\n",
      "creating index...\n",
      "index created!\n"
     ]
    }
   ],
   "source": [
    "cocoTest = COCO('./data/annotations/captions_val2014.json')"
   ]
  },
  {
   "cell_type": "code",
   "execution_count": 8,
   "metadata": {},
   "outputs": [],
   "source": [
    "with open('test_ids.csv', 'r') as f:\n",
    "    reader = csv.reader(f)\n",
    "    testIds = list(reader)\n",
    "    \n",
    "testIds = [int(i) for i in testIds[0]]"
   ]
  },
  {
   "cell_type": "code",
   "execution_count": 9,
   "metadata": {},
   "outputs": [],
   "source": [
    "for img_id in testIds:\n",
    "    path = cocoTest.loadImgs(img_id)[0]['file_name']\n",
    "    copyfile('/datasets/COCO-2015/val2014/'+path, './data/images/test/'+path)"
   ]
  },
  {
   "cell_type": "code",
   "execution_count": 10,
   "metadata": {},
   "outputs": [
    {
     "name": "stdout",
     "output_type": "stream",
     "text": [
      "done\n"
     ]
    }
   ],
   "source": [
    "print(\"done\")"
   ]
  },
  {
   "cell_type": "code",
   "execution_count": null,
   "metadata": {},
   "outputs": [],
   "source": []
  }
 ],
 "metadata": {
  "kernelspec": {
   "display_name": "Python 3 (ipykernel)",
   "language": "python",
   "name": "python3"
  },
  "language_info": {
   "codemirror_mode": {
    "name": "ipython",
    "version": 3
   },
   "file_extension": ".py",
   "mimetype": "text/x-python",
   "name": "python",
   "nbconvert_exporter": "python",
   "pygments_lexer": "ipython3",
   "version": "3.9.5"
  }
 },
 "nbformat": 4,
 "nbformat_minor": 2
}
